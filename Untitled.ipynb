{
 "cells": [
  {
   "cell_type": "markdown",
   "id": "d460be19-e3e7-4326-8bbb-6a6775dafbfb",
   "metadata": {},
   "source": [
    "# Automated Sticky Trap Image Analysis for Monitoring CAS and Associates\n",
    "\n",
    "Yellow sticky traps will be used to monitor CAS (males and crawlers) and associates (CAS predators and parasites). This method has been used in the past on Guam.\n",
    "Original methods have been improved by enclosing the sticky traps in square plastic containers to protect the traps during shipment. This will allow us to deploy traps on Tinian and return them to Guam for analysis.\n",
    "\n",
    "Instead of manually identifying and counting insects trapped using a microscope, analysis will be facilitated using modern digital imaging techniques:\n",
    "* a high resulution image of each trap will be made with a digital camera\n",
    "* a Jupyter notebook will use Python and the opencv library to extract images of individual insects\n",
    "* each extracted image willbe classified thus automating counts of CAS (males and crawlers), CAS associates (predators and parasites), unrelated insects,and junk [this step not yet implemented]\n",
    "\n",
    "Here are the results of automated image analysis of a test sticky trap.\n",
    "\n",
    "### Original image\n",
    "![](my_sticky_trap/my_sticky_trap.jpg)\n",
    "### Annotated image\n",
    "![](my_sticky_trap/bugcount.png)\n",
    "### Extractedimage 045\n",
    "![](my_sticky_trap/045b.png)\n",
    "### Extracted image 022\n",
    "![](my_sticky_trap/022b.png)"
   ]
  },
  {
   "cell_type": "code",
   "execution_count": null,
   "id": "bda4758f-f627-44df-83fd-5605618665d2",
   "metadata": {},
   "outputs": [],
   "source": []
  }
 ],
 "metadata": {
  "kernelspec": {
   "display_name": "Python 3",
   "language": "python",
   "name": "python3"
  },
  "language_info": {
   "codemirror_mode": {
    "name": "ipython",
    "version": 3
   },
   "file_extension": ".py",
   "mimetype": "text/x-python",
   "name": "python",
   "nbconvert_exporter": "python",
   "pygments_lexer": "ipython3",
   "version": "3.8.8"
  }
 },
 "nbformat": 4,
 "nbformat_minor": 5
}
